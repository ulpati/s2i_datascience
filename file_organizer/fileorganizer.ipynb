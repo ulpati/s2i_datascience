{
 "cells": [
  {
   "cell_type": "markdown",
   "metadata": {},
   "source": [
    "Nella cartella *files* trovi 8 file:\n",
    "- 2 file di testo\n",
    "- 2 file audio\n",
    "- 4 immagini,\n",
    "\n",
    "con varie estensioni.\n",
    "\n",
    "**Step 1**\n",
    "\n",
    "Inizia creando, in un notebook, uno script Python che iteri in ordine alfabetico sui file della cartella files e, a seconda del tipo (audio, documento, immagine), li sposti nella relativa sottocartella (qui sotto trovi un esempio). Se la sottocartella non esiste, il tuo script dovrà crearla automaticamente.\n",
    "\n",
    "Durante il ciclo, lo script deve stampare le informazioni dei file: nome, tipo e dimensione in byte. Questo è l'output desiderato:"
   ]
  },
  {
   "cell_type": "code",
   "execution_count": 3,
   "metadata": {},
   "outputs": [
    {
     "name": "stdout",
     "output_type": "stream",
     "text": [
      "bw type:image size:94926B\n",
      "ciao type:doc size:12B\n",
      "daffodil type:image size:24657B\n",
      "eclipse type:image size:64243B\n",
      "pippo type:doc size:8299B\n",
      "song1 type:audio size:1087849B\n",
      "song2 type:audio size:764176B\n",
      "trump type:image size:10195B\n"
     ]
    }
   ],
   "source": [
    "#FILL ME"
   ]
  },
  {
   "cell_type": "markdown",
   "metadata": {},
   "source": [
    "Oltre a stamparne le informazioni via via che li sposti, tieni traccia dei file creando un documento *recap.csv* con le stesse informazioni. Trovi un esempio in questa cartella.\n",
    "\n",
    "La struttura finale della cartella files dovrà essere:\n",
    "\n",
    "- files            \n",
    "    - audio\n",
    "        - song1.mp3\n",
    "        - song2.mp3\n",
    "    - docs\n",
    "        - ciao.txt\n",
    "        - pippo.odt\n",
    "    - images\n",
    "        - bw.png\n",
    "        - daffodil.jpg\n",
    "        - eclipse.png\n",
    "        - trump.jpeg    \n",
    "    - recap.csv\n",
    "\n",
    "Commenta il codice con i passaggi che fai. Questo vale anche per i prossimi Step.\n",
    "\n",
    "**Attenzione**: lo script, ogni volta che viene lanciato per spostare nuovi file, deve *aggiornare* (e non sovrascrivere) le sottocartelle e il file di recap. Per controllare che tutto funzioni correttamente, puoi aggiungere altri file alla cartella files e fare un test; oppure, puoi dividere gli 8 file originali in due gruppi e lasciarne uno per il test.\n",
    "\n",
    "**Consiglio**: puoi usare le librerie *os*, *shutil* e *csv*. \n",
    "                \n",
    "---"
   ]
  },
  {
   "cell_type": "code",
   "execution_count": 1,
   "metadata": {},
   "outputs": [],
   "source": [
    "import os\n",
    "import shutil\n",
    "import csv"
   ]
  },
  {
   "cell_type": "code",
   "execution_count": 2,
   "metadata": {},
   "outputs": [],
   "source": [
    "def gestione_file(file, directory, extensions, file_csv):\n",
    "\n",
    "    name, ext = os.path.splitext(file)\n",
    "    size = os.path.getsize(os.path.join(directory, file))\n",
    "\n",
    "    # verifico estensione file\n",
    "    if ext in extensions:\n",
    "        size = os.path.getsize(os.path.join(directory, file))\n",
    "        f_type = extensions.get(ext)\n",
    "        \n",
    "        # sposto file\n",
    "        shutil.move(os.path.join(directory, file), os.path.join(directory, f_type))\n",
    "\n",
    "        # stampo informazioni file        \n",
    "        print(f\"{name} type:{f_type} size:{size}B\")\n",
    "\n",
    "        # scrivo su recap.csv\n",
    "        writer = csv.writer(file_csv)\n",
    "        writer.writerow( [name, f_type, size] )\n",
    "    \n",
    "    else:\n",
    "        print(\"Formato non riconosciuto.\")"
   ]
  },
  {
   "cell_type": "code",
   "execution_count": 3,
   "metadata": {},
   "outputs": [
    {
     "name": "stdout",
     "output_type": "stream",
     "text": [
      "pippo type:docs size:8299B\n",
      "daffodil type:images size:24657B\n",
      "song2 type:audio size:764176B\n",
      "Formato non riconosciuto.\n",
      "bw type:images size:94926B\n",
      "Formato non riconosciuto.\n",
      "trump type:images size:10195B\n",
      "Formato non riconosciuto.\n",
      "song1 type:audio size:1087849B\n",
      "eclipse type:images size:64243B\n",
      "Formato non riconosciuto.\n",
      "ciao type:docs size:12B\n"
     ]
    }
   ],
   "source": [
    "# estensioni file accettate\n",
    "extensions = {\n",
    "    '.jpeg': 'images',\n",
    "    '.jpg': 'images',\n",
    "    '.png': 'images',\n",
    "    '.txt': 'docs',\n",
    "    '.odt': 'docs',\n",
    "    '.mp3': 'audio',\n",
    "}\n",
    "\n",
    "directory = r'files' # r per interpretare letterlamente la stringa\n",
    "\n",
    "# creo sottocartella se non esiste\n",
    "for i in [\"audio\", \"docs\", \"images\"]:\n",
    "    path = os.path.join(directory, i)\n",
    "    if not os.path.isdir(path): os.mkdir(path)\n",
    "\n",
    "# creo recap.csv se non esiste\n",
    "recap = \"recap.csv\"\n",
    "if not os.path.exists(os.path.join(directory, recap)):\n",
    "    with open(os.path.join(directory, recap), \"w\", newline=\"\") as file_csv_w:  # w = write mode\n",
    "        writer = csv.writer(file_csv_w)\n",
    "        writer.writerow([\"name\", \"type\", \"size(B)\"])\n",
    "\n",
    "# gestione file\n",
    "with open(os.path.join(directory, recap), \"a\", newline=\"\") as file_csv_a: # a = append mode\n",
    "    \n",
    "    for file in os.listdir(directory): gestione_file(file, directory, extensions, file_csv_a)"
   ]
  },
  {
   "cell_type": "markdown",
   "metadata": {},
   "source": [
    "**Step 2**\n",
    "\n",
    "Inserisci lo script che hai creato in un piccolo eseguibile (chiamalo *addfile.py* e posizionalo in questa cartella, a fianco del notebook) dotato di *interfaccia a linea di comando* (CLI).\n",
    "\n",
    "Lo scopo dell'eseguibile è spostare un *singolo* file (che si trova nella cartella files) nella sottocartella di competenza, aggiornando il recap.\n",
    "\n",
    "L'interfaccia dell'eseguibile ha come unico argomento (obbligatorio) il nome del file da spostare (comprensivo di formato, es: 'trump.jpeg'). Nel caso in cui il file passato come argomento non esista, l'interfaccia deve comunicarlo all'utente.\n",
    "\n",
    "**Consiglio**: oltre alle precedenti, puoi usare le librerie *sys* e *argparse*.\n",
    "\n",
    "---"
   ]
  },
  {
   "cell_type": "markdown",
   "metadata": {},
   "source": [
    "**Step 3**\n",
    "\n",
    "Una immagine in scala di grigio ha un solo livello di colore, una RGB ne ha 3, una RGBA 4 (l'ultimo è detto canale *alpha*).\n",
    "\n",
    "Il modulo *Image* della libreria *PIL* permette di caricare un'immagine, che può essere trasformata in un array NumPy attraverso la funzione *np.array*. A partire da tale array, è possibile capire se l'immagine caricata è in scala di grigio, RGB o RGBA.\n",
    "\n",
    "Aggiungi al notebook dello Step 1 uno script che iteri sulla sottocartella *images* e costruisca una tabella riassuntiva come questa (prodotta con la libreria *tabulate*):"
   ]
  },
  {
   "cell_type": "code",
   "execution_count": 11,
   "metadata": {},
   "outputs": [
    {
     "name": "stdout",
     "output_type": "stream",
     "text": [
      "╒══════════╤══════════╤═════════╤═════════════╤════════╤════════╤═══════╤═════════╕\n",
      "│ name     │   height │   width │   grayscale │      R │      G │     B │   ALPHA │\n",
      "╞══════════╪══════════╪═════════╪═════════════╪════════╪════════╪═══════╪═════════╡\n",
      "│ bw       │      512 │     512 │       21.48 │   0.00 │   0.00 │  0.00 │    0.00 │\n",
      "├──────────┼──────────┼─────────┼─────────────┼────────┼────────┼───────┼─────────┤\n",
      "│ daffodil │      500 │     335 │        0.00 │ 109.25 │  85.56 │  4.97 │    0.00 │\n",
      "├──────────┼──────────┼─────────┼─────────────┼────────┼────────┼───────┼─────────┤\n",
      "│ eclipse  │      256 │     256 │        0.00 │ 109.05 │ 109.52 │ 39.85 │  133.59 │\n",
      "├──────────┼──────────┼─────────┼─────────────┼────────┼────────┼───────┼─────────┤\n",
      "│ trump    │      183 │     275 │        0.00 │  97.01 │  98.99 │ 90.92 │    0.00 │\n",
      "╘══════════╧══════════╧═════════╧═════════════╧════════╧════════╧═══════╧═════════╛\n"
     ]
    }
   ],
   "source": [
    "#FILL ME"
   ]
  },
  {
   "cell_type": "markdown",
   "metadata": {},
   "source": [
    "Oltre al nome del file, la tabella riporta:\n",
    "\n",
    "- altezza dell'immagine, in pixel\n",
    "- larghezza dell'immagine, in pixel\n",
    "- se l'immagine è in scala di grigio, la colonna *grayscale* indica la media dei valori dell'unico livello di colore\n",
    "- se l'immagine è a colori, le altre colonne indicano la media dei valori di ogni livello di colore.\n",
    "\n",
    "---"
   ]
  },
  {
   "cell_type": "code",
   "execution_count": 7,
   "metadata": {},
   "outputs": [],
   "source": [
    "#import os #(se non eseguito Step 1)\n",
    "import numpy as np\n",
    "import matplotlib.pyplot as plt\n",
    "from PIL import Image\n",
    "from tabulate import tabulate"
   ]
  },
  {
   "cell_type": "code",
   "execution_count": 8,
   "metadata": {},
   "outputs": [
    {
     "name": "stdout",
     "output_type": "stream",
     "text": [
      "╒══════════╤══════════╤═════════╤═════════════╤════════╤════════╤═══════╤═════════╕\n",
      "│ name     │   height │   width │   grayscale │      R │      G │     B │   ALPHA │\n",
      "╞══════════╪══════════╪═════════╪═════════════╪════════╪════════╪═══════╪═════════╡\n",
      "│ daffodil │      500 │     335 │        0.00 │ 109.23 │  85.52 │  4.77 │    0.00 │\n",
      "├──────────┼──────────┼─────────┼─────────────┼────────┼────────┼───────┼─────────┤\n",
      "│ bw       │      512 │     512 │       21.48 │   0.00 │   0.00 │  0.00 │    0.00 │\n",
      "├──────────┼──────────┼─────────┼─────────────┼────────┼────────┼───────┼─────────┤\n",
      "│ trump    │      183 │     275 │        0.00 │  97.01 │  98.99 │ 90.92 │    0.00 │\n",
      "├──────────┼──────────┼─────────┼─────────────┼────────┼────────┼───────┼─────────┤\n",
      "│ eclipse  │      256 │     256 │        0.00 │ 109.05 │ 109.52 │ 39.85 │  133.59 │\n",
      "╘══════════╧══════════╧═════════╧═════════════╧════════╧════════╧═══════╧═════════╛\n"
     ]
    }
   ],
   "source": [
    "directory = r\"files/images/\"\n",
    "table = []\n",
    "\n",
    "for file in os.listdir(directory):\n",
    "    # reset valori\n",
    "    R, G, B, grayscale, alpha = 0, 0, 0, 0, 0\n",
    "\n",
    "    path = os.path.join(directory, file) # percorso file\n",
    "    image = Image.open(path) # apertura file immagine\n",
    "    np_image = np.array(image) # immagine trasformata in un array Numpy\n",
    "\n",
    "    name = file.split(\".\")[0]\n",
    "    height, width = np_image.shape[0], np_image.shape[1]\n",
    "\n",
    "    # condizioni if per assegnare i valori a seconda dei livelli colori\n",
    "    if np_image.ndim == 2:\n",
    "        grayscale = np.mean(np_image)\n",
    "\n",
    "    else:\n",
    "        #calcolo della media per ogni canale:\n",
    "        #- con la prima applicazione di mean faccio la media lungo l'asse y (righe)\n",
    "        #- con la seconda, faccio la media lungo l'asse x (colonne)\n",
    "        #il risultato è un array di 3 (RGB) o 4 (RGBA) numeri, corrispondenti alle\n",
    "        #medie dei valori di ognuno dei 3 canali di colore e, se presente, di quello di trasparenza\n",
    "        media_colori = np_image.mean(axis=0).mean(axis=0)\n",
    "        if np_image.shape[2] == 3:\n",
    "            R, G, B = media_colori\n",
    "        else:\n",
    "            R, G, B, alpha = media_colori\n",
    "\n",
    "    table.append([name, height, width, grayscale, R, G, B, alpha])\n",
    "    \n",
    "print(tabulate(table, headers=[\"name\", \"height\", \"width\", \"grayscale\", \"R\", \"G\", \"B\", \"ALPHA\"],\n",
    "               tablefmt=\"fancy_grid\", # formato tabella\n",
    "               floatfmt=\".2f\")) # 2 cifre decimali"
   ]
  },
  {
   "cell_type": "markdown",
   "metadata": {},
   "source": [
    "**Dovrai consegnare**:\n",
    "- un notebook con gli Step 1 e 3; per semplicità puoi chiamarlo come questo\n",
    "- addfile.py con quanto richiesto dallo Step 2."
   ]
  }
 ],
 "metadata": {
  "kernelspec": {
   "display_name": "Python 3",
   "language": "python",
   "name": "python3"
  },
  "language_info": {
   "codemirror_mode": {
    "name": "ipython",
    "version": 3
   },
   "file_extension": ".py",
   "mimetype": "text/x-python",
   "name": "python",
   "nbconvert_exporter": "python",
   "pygments_lexer": "ipython3",
   "version": "3.10.12"
  }
 },
 "nbformat": 4,
 "nbformat_minor": 2
}
